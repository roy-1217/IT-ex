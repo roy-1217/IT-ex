{
 "cells": [
  {
   "cell_type": "code",
   "execution_count": 1,
   "id": "82452b65",
   "metadata": {},
   "outputs": [],
   "source": [
    "# 導入所需的函式庫\n",
    "from sklearn.datasets import load_iris\n",
    "import pandas as pd\n",
    "from sklearn.model_selection import train_test_split\n",
    "\n",
    "# 導入鳶尾花資料集\n",
    "iris = load_iris()\n",
    "\n",
    "# 將iris資料集的原始資料轉換成dataframe，並設定欄位名稱為其特徵名稱，同時載入\n",
    "df = pd.DataFrame(iris['data'], columns=iris['feature_names'])\n",
    "\n",
    "# 加入預測的目標(其中的0、1、2分別代表了花的三個不同屬種)\n",
    "df['target'] = iris['target']\n",
    "\n",
    "# 將特徵(x)、目標(y)各自需要的欄位抓出來\n",
    "x_col = df[['sepal width (cm)', 'sepal length (cm)', 'petal width (cm)', 'petal length (cm)']]\n",
    "y_col = df['target']\n",
    "\n",
    "# 將資料切割成訓練集、測試集\n",
    "X_train, X_test, Y_train, Y_test = train_test_split(x_col, y_col, test_size=0.33, random_state=42)"
   ]
  },
  {
   "cell_type": "code",
   "execution_count": 2,
   "id": "9ef4be24",
   "metadata": {},
   "outputs": [],
   "source": [
    "from sklearn.neighbors import KNeighborsClassifier\n",
    "\n",
    "# 初始 KNN 模型\n",
    "mod = KNeighborsClassifier()\n",
    "\n",
    "# 訓練模型\n",
    "mod.fit(X_train, Y_train)\n",
    "\n",
    "# 模型預測\n",
    "pred = mod.predict(X_test)"
   ]
  },
  {
   "cell_type": "code",
   "execution_count": 3,
   "id": "1d990130",
   "metadata": {},
   "outputs": [
    {
     "name": "stdout",
     "output_type": "stream",
     "text": [
      "正確率： 0.98\n"
     ]
    }
   ],
   "source": [
    "from sklearn.metrics import accuracy_score\n",
    "\n",
    "# 正確率：比較預測出來的結果跟正確答案的正確率\n",
    "print(\"正確率：\", accuracy_score(Y_test, pred).round(2))"
   ]
  },
  {
   "cell_type": "code",
   "execution_count": 4,
   "id": "c241ab7b",
   "metadata": {},
   "outputs": [
    {
     "name": "stdout",
     "output_type": "stream",
     "text": [
      "     預測1  預測2  預測3\n",
      "實際1   19    0    0\n",
      "實際2    0   15    0\n",
      "預測3    0    1   15\n"
     ]
    }
   ],
   "source": [
    "from sklearn.metrics import confusion_matrix\n",
    "\n",
    "# 混淆矩陣\n",
    "cf = confusion_matrix(Y_test, pred)\n",
    "\n",
    "# 把矩陣結果加上行列的標題後，打印出來\n",
    "print(pd.DataFrame(cf, columns=['預測1', '預測2', '預測3'], index=['實際1','實際2', '預測3']))"
   ]
  },
  {
   "cell_type": "code",
   "execution_count": 5,
   "id": "0c3df866",
   "metadata": {},
   "outputs": [
    {
     "name": "stdout",
     "output_type": "stream",
     "text": [
      "              precision    recall  f1-score   support\n",
      "\n",
      "           0       1.00      1.00      1.00        19\n",
      "           1       0.94      1.00      0.97        15\n",
      "           2       1.00      0.94      0.97        16\n",
      "\n",
      "    accuracy                           0.98        50\n",
      "   macro avg       0.98      0.98      0.98        50\n",
      "weighted avg       0.98      0.98      0.98        50\n",
      "\n"
     ]
    }
   ],
   "source": [
    "from sklearn.metrics import classification_report\n",
    "\n",
    "# 印出綜合報告\n",
    "print(classification_report(Y_test, pred))"
   ]
  }
 ],
 "metadata": {
  "kernelspec": {
   "display_name": "Python 3 (ipykernel)",
   "language": "python",
   "name": "python3"
  },
  "language_info": {
   "codemirror_mode": {
    "name": "ipython",
    "version": 3
   },
   "file_extension": ".py",
   "mimetype": "text/x-python",
   "name": "python",
   "nbconvert_exporter": "python",
   "pygments_lexer": "ipython3",
   "version": "3.11.2"
  }
 },
 "nbformat": 4,
 "nbformat_minor": 5
}
